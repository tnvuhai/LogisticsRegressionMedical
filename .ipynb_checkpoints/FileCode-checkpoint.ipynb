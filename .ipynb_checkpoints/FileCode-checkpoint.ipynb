{
 "cells": [
  {
   "cell_type": "code",
   "execution_count": null,
   "id": "a2ae1596-72c2-42c4-b2de-f9d63b8ce215",
   "metadata": {},
   "outputs": [],
   "source": [
    "import numpy as np\n",
    "import pandas as pd"
   ]
  },
  {
   "cell_type": "code",
   "execution_count": null,
   "id": "688b938b-133f-4067-b921-196f59e74d97",
   "metadata": {},
   "outputs": [
    {
     "data": {
      "text/html": [
       "<div>\n",
       "<style scoped>\n",
       "    .dataframe tbody tr th:only-of-type {\n",
       "        vertical-align: middle;\n",
       "    }\n",
       "\n",
       "    .dataframe tbody tr th {\n",
       "        vertical-align: top;\n",
       "    }\n",
       "\n",
       "    .dataframe thead th {\n",
       "        text-align: right;\n",
       "    }\n",
       "</style>\n",
       "<table border=\"1\" class=\"dataframe\">\n",
       "  <thead>\n",
       "    <tr style=\"text-align: right;\">\n",
       "      <th></th>\n",
       "      <th>qd</th>\n",
       "      <th>gos</th>\n",
       "      <th>training2</th>\n",
       "      <th>creadit3</th>\n",
       "      <th>capital</th>\n",
       "      <th>gender</th>\n",
       "      <th>experience</th>\n",
       "      <th>age</th>\n",
       "      <th>education</th>\n",
       "    </tr>\n",
       "  </thead>\n",
       "  <tbody>\n",
       "    <tr>\n",
       "      <th>0</th>\n",
       "      <td>0</td>\n",
       "      <td>0</td>\n",
       "      <td>1</td>\n",
       "      <td>1</td>\n",
       "      <td>1.5</td>\n",
       "      <td>0</td>\n",
       "      <td>8</td>\n",
       "      <td>45</td>\n",
       "      <td>5</td>\n",
       "    </tr>\n",
       "    <tr>\n",
       "      <th>1</th>\n",
       "      <td>0</td>\n",
       "      <td>0</td>\n",
       "      <td>1</td>\n",
       "      <td>0</td>\n",
       "      <td>0.3</td>\n",
       "      <td>0</td>\n",
       "      <td>1</td>\n",
       "      <td>29</td>\n",
       "      <td>12</td>\n",
       "    </tr>\n",
       "    <tr>\n",
       "      <th>2</th>\n",
       "      <td>0</td>\n",
       "      <td>0</td>\n",
       "      <td>0</td>\n",
       "      <td>0</td>\n",
       "      <td>9.0</td>\n",
       "      <td>1</td>\n",
       "      <td>5</td>\n",
       "      <td>35</td>\n",
       "      <td>18</td>\n",
       "    </tr>\n",
       "    <tr>\n",
       "      <th>3</th>\n",
       "      <td>1</td>\n",
       "      <td>0</td>\n",
       "      <td>1</td>\n",
       "      <td>0</td>\n",
       "      <td>9.5</td>\n",
       "      <td>1</td>\n",
       "      <td>12</td>\n",
       "      <td>56</td>\n",
       "      <td>10</td>\n",
       "    </tr>\n",
       "    <tr>\n",
       "      <th>4</th>\n",
       "      <td>0</td>\n",
       "      <td>0</td>\n",
       "      <td>0</td>\n",
       "      <td>0</td>\n",
       "      <td>13.0</td>\n",
       "      <td>1</td>\n",
       "      <td>8</td>\n",
       "      <td>50</td>\n",
       "      <td>32</td>\n",
       "    </tr>\n",
       "    <tr>\n",
       "      <th>5</th>\n",
       "      <td>0</td>\n",
       "      <td>1</td>\n",
       "      <td>0</td>\n",
       "      <td>1</td>\n",
       "      <td>5.0</td>\n",
       "      <td>0</td>\n",
       "      <td>8</td>\n",
       "      <td>47</td>\n",
       "      <td>16</td>\n",
       "    </tr>\n",
       "    <tr>\n",
       "      <th>6</th>\n",
       "      <td>0</td>\n",
       "      <td>0</td>\n",
       "      <td>0</td>\n",
       "      <td>0</td>\n",
       "      <td>2.0</td>\n",
       "      <td>1</td>\n",
       "      <td>12</td>\n",
       "      <td>58</td>\n",
       "      <td>16</td>\n",
       "    </tr>\n",
       "    <tr>\n",
       "      <th>7</th>\n",
       "      <td>0</td>\n",
       "      <td>0</td>\n",
       "      <td>1</td>\n",
       "      <td>1</td>\n",
       "      <td>0.3</td>\n",
       "      <td>0</td>\n",
       "      <td>3</td>\n",
       "      <td>34</td>\n",
       "      <td>8</td>\n",
       "    </tr>\n",
       "    <tr>\n",
       "      <th>8</th>\n",
       "      <td>0</td>\n",
       "      <td>0</td>\n",
       "      <td>0</td>\n",
       "      <td>0</td>\n",
       "      <td>4.0</td>\n",
       "      <td>0</td>\n",
       "      <td>5</td>\n",
       "      <td>51</td>\n",
       "      <td>12</td>\n",
       "    </tr>\n",
       "    <tr>\n",
       "      <th>9</th>\n",
       "      <td>0</td>\n",
       "      <td>0</td>\n",
       "      <td>0</td>\n",
       "      <td>1</td>\n",
       "      <td>1.5</td>\n",
       "      <td>1</td>\n",
       "      <td>3</td>\n",
       "      <td>35</td>\n",
       "      <td>0</td>\n",
       "    </tr>\n",
       "  </tbody>\n",
       "</table>\n",
       "</div>"
      ],
      "text/plain": [
       "   qd  gos  training2  creadit3  capital  gender  experience  age  education\n",
       "0   0    0          1         1      1.5       0           8   45          5\n",
       "1   0    0          1         0      0.3       0           1   29         12\n",
       "2   0    0          0         0      9.0       1           5   35         18\n",
       "3   1    0          1         0      9.5       1          12   56         10\n",
       "4   0    0          0         0     13.0       1           8   50         32\n",
       "5   0    1          0         1      5.0       0           8   47         16\n",
       "6   0    0          0         0      2.0       1          12   58         16\n",
       "7   0    0          1         1      0.3       0           3   34          8\n",
       "8   0    0          0         0      4.0       0           5   51         12\n",
       "9   0    0          0         1      1.5       1           3   35          0"
      ]
     },
     "execution_count": 3,
     "metadata": {},
     "output_type": "execute_result"
    }
   ],
   "source": [
    "dataset = pd.read_excel(\"DataSet.xlsx\")\n",
    "dataset.head(10)"
   ]
  },
  {
   "cell_type": "code",
   "execution_count": null,
   "id": "d827ed79-f072-4b03-87df-e362d065edae",
   "metadata": {},
   "outputs": [
    {
     "data": {
      "image/png": "[encoded data removed]",
      "text/plain": [
       "<Figure size 480x480 with 2 Axes>"
      ]
     },
     "metadata": {},
     "output_type": "display_data"
    }
   ],
   "source": [
    "import matplotlib.pyplot as plt\n",
    "\n",
    "plt.matshow(dataset.corr())\n",
    "cb = plt.colorbar()\n",
    "cb.ax.tick_params(labelsize=14)\n",
    "plt.show()\n",
    "# fig, ax = plt.subplots(figsize=(20,20))\n",
    "# cax = ax.matshow(hood_cosine_matrix, interpolation='nearest')\n",
    "# ax.grid(True)\n",
    "# plt.title('San Francisco Similarity matrix')\n",
    "# plt.xticks(range(33), labels,  rotation=90);\n",
    "# plt.yticks(range(33), labels);\n",
    "# fig.colorbar(cax, ticks=[0.1, 0.2, 0.3, 0.4, 0.5, 0.6, 0.7, .75,.8,.85,.90,.95,1])\n",
    "# plt.show()"
   ]
  },
  {
   "cell_type": "code",
   "execution_count": null,
   "id": "2c0d38c0-f67e-4796-affd-3e4cf8c8f97c",
   "metadata": {},
   "outputs": [
    {
     "data": {
      "text/html": [
       "<style type=\"text/css\">\n",
       "#T_80b4f_row0_col0, #T_80b4f_row1_col1, #T_80b4f_row2_col2, #T_80b4f_row3_col3, #T_80b4f_row4_col4, #T_80b4f_row5_col5, #T_80b4f_row6_col6, #T_80b4f_row7_col7, #T_80b4f_row8_col8 {\n",
       "  background-color: #b40426;\n",
       "  color: #f1f1f1;\n",
       "}\n",
       "#T_80b4f_row0_col1, #T_80b4f_row7_col4 {\n",
       "  background-color: #8badfd;\n",
       "  color: #000000;\n",
       "}\n",
       "#T_80b4f_row0_col2, #T_80b4f_row4_col8 {\n",
       "  background-color: #7a9df8;\n",
       "  color: #f1f1f1;\n",
       "}\n",
       "#T_80b4f_row0_col3, #T_80b4f_row0_col6, #T_80b4f_row8_col6 {\n",
       "  background-color: #7699f6;\n",
       "  color: #f1f1f1;\n",
       "}\n",
       "#T_80b4f_row0_col4 {\n",
       "  background-color: #779af7;\n",
       "  color: #f1f1f1;\n",
       "}\n",
       "#T_80b4f_row0_col5, #T_80b4f_row5_col8 {\n",
       "  background-color: #4e68d8;\n",
       "  color: #f1f1f1;\n",
       "}\n",
       "#T_80b4f_row0_col7, #T_80b4f_row3_col0 {\n",
       "  background-color: #6384eb;\n",
       "  color: #f1f1f1;\n",
       "}\n",
       "#T_80b4f_row0_col8 {\n",
       "  background-color: #7295f4;\n",
       "  color: #f1f1f1;\n",
       "}\n",
       "#T_80b4f_row1_col0, #T_80b4f_row6_col8 {\n",
       "  background-color: #7597f6;\n",
       "  color: #f1f1f1;\n",
       "}\n",
       "#T_80b4f_row1_col2, #T_80b4f_row2_col1, #T_80b4f_row2_col4, #T_80b4f_row2_col6, #T_80b4f_row2_col7, #T_80b4f_row2_col8, #T_80b4f_row3_col4, #T_80b4f_row3_col5, #T_80b4f_row3_col7, #T_80b4f_row5_col0, #T_80b4f_row5_col3 {\n",
       "  background-color: #3b4cc0;\n",
       "  color: #f1f1f1;\n",
       "}\n",
       "#T_80b4f_row1_col3, #T_80b4f_row8_col3 {\n",
       "  background-color: #5977e3;\n",
       "  color: #f1f1f1;\n",
       "}\n",
       "#T_80b4f_row1_col4 {\n",
       "  background-color: #5a78e4;\n",
       "  color: #f1f1f1;\n",
       "}\n",
       "#T_80b4f_row1_col5 {\n",
       "  background-color: #5572df;\n",
       "  color: #f1f1f1;\n",
       "}\n",
       "#T_80b4f_row1_col6, #T_80b4f_row3_col1 {\n",
       "  background-color: #5b7ae5;\n",
       "  color: #f1f1f1;\n",
       "}\n",
       "#T_80b4f_row1_col7, #T_80b4f_row4_col1 {\n",
       "  background-color: #5f7fe8;\n",
       "  color: #f1f1f1;\n",
       "}\n",
       "#T_80b4f_row1_col8, #T_80b4f_row6_col3, #T_80b4f_row6_col5 {\n",
       "  background-color: #455cce;\n",
       "  color: #f1f1f1;\n",
       "}\n",
       "#T_80b4f_row2_col0, #T_80b4f_row8_col0 {\n",
       "  background-color: #6485ec;\n",
       "  color: #f1f1f1;\n",
       "}\n",
       "#T_80b4f_row2_col3 {\n",
       "  background-color: #506bda;\n",
       "  color: #f1f1f1;\n",
       "}\n",
       "#T_80b4f_row2_col5, #T_80b4f_row5_col4, #T_80b4f_row7_col5 {\n",
       "  background-color: #4961d2;\n",
       "  color: #f1f1f1;\n",
       "}\n",
       "#T_80b4f_row3_col2, #T_80b4f_row3_col8, #T_80b4f_row7_col0 {\n",
       "  background-color: #536edd;\n",
       "  color: #f1f1f1;\n",
       "}\n",
       "#T_80b4f_row3_col6, #T_80b4f_row4_col2 {\n",
       "  background-color: #4055c8;\n",
       "  color: #f1f1f1;\n",
       "}\n",
       "#T_80b4f_row4_col0, #T_80b4f_row6_col0, #T_80b4f_row7_col1 {\n",
       "  background-color: #6788ee;\n",
       "  color: #f1f1f1;\n",
       "}\n",
       "#T_80b4f_row4_col3 {\n",
       "  background-color: #3d50c3;\n",
       "  color: #f1f1f1;\n",
       "}\n",
       "#T_80b4f_row4_col5, #T_80b4f_row5_col2 {\n",
       "  background-color: #4c66d6;\n",
       "  color: #f1f1f1;\n",
       "}\n",
       "#T_80b4f_row4_col6 {\n",
       "  background-color: #9abbff;\n",
       "  color: #000000;\n",
       "}\n",
       "#T_80b4f_row4_col7 {\n",
       "  background-color: #89acfd;\n",
       "  color: #000000;\n",
       "}\n",
       "#T_80b4f_row5_col1 {\n",
       "  background-color: #5875e1;\n",
       "  color: #f1f1f1;\n",
       "}\n",
       "#T_80b4f_row5_col6, #T_80b4f_row6_col2, #T_80b4f_row7_col2 {\n",
       "  background-color: #4257c9;\n",
       "  color: #f1f1f1;\n",
       "}\n",
       "#T_80b4f_row5_col7, #T_80b4f_row8_col2 {\n",
       "  background-color: #445acc;\n",
       "  color: #f1f1f1;\n",
       "}\n",
       "#T_80b4f_row6_col1 {\n",
       "  background-color: #6282ea;\n",
       "  color: #f1f1f1;\n",
       "}\n",
       "#T_80b4f_row6_col4 {\n",
       "  background-color: #9bbcff;\n",
       "  color: #000000;\n",
       "}\n",
       "#T_80b4f_row6_col7, #T_80b4f_row7_col6 {\n",
       "  background-color: #e67259;\n",
       "  color: #f1f1f1;\n",
       "}\n",
       "#T_80b4f_row7_col3 {\n",
       "  background-color: #3e51c5;\n",
       "  color: #f1f1f1;\n",
       "}\n",
       "#T_80b4f_row7_col8 {\n",
       "  background-color: #80a3fa;\n",
       "  color: #f1f1f1;\n",
       "}\n",
       "#T_80b4f_row8_col1 {\n",
       "  background-color: #4f69d9;\n",
       "  color: #f1f1f1;\n",
       "}\n",
       "#T_80b4f_row8_col4 {\n",
       "  background-color: #7da0f9;\n",
       "  color: #f1f1f1;\n",
       "}\n",
       "#T_80b4f_row8_col5 {\n",
       "  background-color: #5470de;\n",
       "  color: #f1f1f1;\n",
       "}\n",
       "#T_80b4f_row8_col7 {\n",
       "  background-color: #82a6fb;\n",
       "  color: #f1f1f1;\n",
       "}\n",
       "</style>\n",
       "<table id=\"T_80b4f\">\n",
       "  <thead>\n",
       "    <tr>\n",
       "      <th class=\"blank level0\" >&nbsp;</th>\n",
       "      <th id=\"T_80b4f_level0_col0\" class=\"col_heading level0 col0\" >qd</th>\n",
       "      <th id=\"T_80b4f_level0_col1\" class=\"col_heading level0 col1\" >gos</th>\n",
       "      <th id=\"T_80b4f_level0_col2\" class=\"col_heading level0 col2\" >training2</th>\n",
       "      <th id=\"T_80b4f_level0_col3\" class=\"col_heading level0 col3\" >creadit3</th>\n",
       "      <th id=\"T_80b4f_level0_col4\" class=\"col_heading level0 col4\" >capital</th>\n",
       "      <th id=\"T_80b4f_level0_col5\" class=\"col_heading level0 col5\" >gender</th>\n",
       "      <th id=\"T_80b4f_level0_col6\" class=\"col_heading level0 col6\" >experience</th>\n",
       "      <th id=\"T_80b4f_level0_col7\" class=\"col_heading level0 col7\" >age</th>\n",
       "      <th id=\"T_80b4f_level0_col8\" class=\"col_heading level0 col8\" >education</th>\n",
       "    </tr>\n",
       "  </thead>\n",
       "  <tbody>\n",
       "    <tr>\n",
       "      <th id=\"T_80b4f_level0_row0\" class=\"row_heading level0 row0\" >qd</th>\n",
       "      <td id=\"T_80b4f_row0_col0\" class=\"data row0 col0\" >1.000000</td>\n",
       "      <td id=\"T_80b4f_row0_col1\" class=\"data row0 col1\" >0.173997</td>\n",
       "      <td id=\"T_80b4f_row0_col2\" class=\"data row0 col2\" >0.124846</td>\n",
       "      <td id=\"T_80b4f_row0_col3\" class=\"data row0 col3\" >0.120214</td>\n",
       "      <td id=\"T_80b4f_row0_col4\" class=\"data row0 col4\" >0.133511</td>\n",
       "      <td id=\"T_80b4f_row0_col5\" class=\"data row0 col5\" >-0.011178</td>\n",
       "      <td id=\"T_80b4f_row0_col6\" class=\"data row0 col6\" >0.132761</td>\n",
       "      <td id=\"T_80b4f_row0_col7\" class=\"data row0 col7\" >0.070973</td>\n",
       "      <td id=\"T_80b4f_row0_col8\" class=\"data row0 col8\" >0.125587</td>\n",
       "    </tr>\n",
       "    <tr>\n",
       "      <th id=\"T_80b4f_level0_row1\" class=\"row_heading level0 row1\" >gos</th>\n",
       "      <td id=\"T_80b4f_row1_col0\" class=\"data row1 col0\" >0.173997</td>\n",
       "      <td id=\"T_80b4f_row1_col1\" class=\"data row1 col1\" >1.000000</td>\n",
       "      <td id=\"T_80b4f_row1_col2\" class=\"data row1 col2\" >-0.091814</td>\n",
       "      <td id=\"T_80b4f_row1_col3\" class=\"data row1 col3\" >0.026830</td>\n",
       "      <td id=\"T_80b4f_row1_col4\" class=\"data row1 col4\" >0.039671</td>\n",
       "      <td id=\"T_80b4f_row1_col5\" class=\"data row1 col5\" >0.014554</td>\n",
       "      <td id=\"T_80b4f_row1_col6\" class=\"data row1 col6\" >0.047981</td>\n",
       "      <td id=\"T_80b4f_row1_col7\" class=\"data row1 col7\" >0.062631</td>\n",
       "      <td id=\"T_80b4f_row1_col8\" class=\"data row1 col8\" >-0.015358</td>\n",
       "    </tr>\n",
       "    <tr>\n",
       "      <th id=\"T_80b4f_level0_row2\" class=\"row_heading level0 row2\" >training2</th>\n",
       "      <td id=\"T_80b4f_row2_col0\" class=\"data row2 col0\" >0.124846</td>\n",
       "      <td id=\"T_80b4f_row2_col1\" class=\"data row2 col1\" >-0.091814</td>\n",
       "      <td id=\"T_80b4f_row2_col2\" class=\"data row2 col2\" >1.000000</td>\n",
       "      <td id=\"T_80b4f_row2_col3\" class=\"data row2 col3\" >-0.002336</td>\n",
       "      <td id=\"T_80b4f_row2_col4\" class=\"data row2 col4\" >-0.069471</td>\n",
       "      <td id=\"T_80b4f_row2_col5\" class=\"data row2 col5\" >-0.025838</td>\n",
       "      <td id=\"T_80b4f_row2_col6\" class=\"data row2 col6\" >-0.064422</td>\n",
       "      <td id=\"T_80b4f_row2_col7\" class=\"data row2 col7\" >-0.066090</td>\n",
       "      <td id=\"T_80b4f_row2_col8\" class=\"data row2 col8\" >-0.056247</td>\n",
       "    </tr>\n",
       "    <tr>\n",
       "      <th id=\"T_80b4f_level0_row3\" class=\"row_heading level0 row3\" >creadit3</th>\n",
       "      <td id=\"T_80b4f_row3_col0\" class=\"data row3 col0\" >0.120214</td>\n",
       "      <td id=\"T_80b4f_row3_col1\" class=\"data row3 col1\" >0.026830</td>\n",
       "      <td id=\"T_80b4f_row3_col2\" class=\"data row3 col2\" >-0.002336</td>\n",
       "      <td id=\"T_80b4f_row3_col3\" class=\"data row3 col3\" >1.000000</td>\n",
       "      <td id=\"T_80b4f_row3_col4\" class=\"data row3 col4\" >-0.067545</td>\n",
       "      <td id=\"T_80b4f_row3_col5\" class=\"data row3 col5\" >-0.080161</td>\n",
       "      <td id=\"T_80b4f_row3_col6\" class=\"data row3 col6\" >-0.041834</td>\n",
       "      <td id=\"T_80b4f_row3_col7\" class=\"data row3 col7\" >-0.066507</td>\n",
       "      <td id=\"T_80b4f_row3_col8\" class=\"data row3 col8\" >0.029496</td>\n",
       "    </tr>\n",
       "    <tr>\n",
       "      <th id=\"T_80b4f_level0_row4\" class=\"row_heading level0 row4\" >capital</th>\n",
       "      <td id=\"T_80b4f_row4_col0\" class=\"data row4 col0\" >0.133511</td>\n",
       "      <td id=\"T_80b4f_row4_col1\" class=\"data row4 col1\" >0.039671</td>\n",
       "      <td id=\"T_80b4f_row4_col2\" class=\"data row4 col2\" >-0.069471</td>\n",
       "      <td id=\"T_80b4f_row4_col3\" class=\"data row4 col3\" >-0.067545</td>\n",
       "      <td id=\"T_80b4f_row4_col4\" class=\"data row4 col4\" >1.000000</td>\n",
       "      <td id=\"T_80b4f_row4_col5\" class=\"data row4 col5\" >-0.015562</td>\n",
       "      <td id=\"T_80b4f_row4_col6\" class=\"data row4 col6\" >0.239927</td>\n",
       "      <td id=\"T_80b4f_row4_col7\" class=\"data row4 col7\" >0.189626</td>\n",
       "      <td id=\"T_80b4f_row4_col8\" class=\"data row4 col8\" >0.151044</td>\n",
       "    </tr>\n",
       "    <tr>\n",
       "      <th id=\"T_80b4f_level0_row5\" class=\"row_heading level0 row5\" >gender</th>\n",
       "      <td id=\"T_80b4f_row5_col0\" class=\"data row5 col0\" >-0.011178</td>\n",
       "      <td id=\"T_80b4f_row5_col1\" class=\"data row5 col1\" >0.014554</td>\n",
       "      <td id=\"T_80b4f_row5_col2\" class=\"data row5 col2\" >-0.025838</td>\n",
       "      <td id=\"T_80b4f_row5_col3\" class=\"data row5 col3\" >-0.080161</td>\n",
       "      <td id=\"T_80b4f_row5_col4\" class=\"data row5 col4\" >-0.015562</td>\n",
       "      <td id=\"T_80b4f_row5_col5\" class=\"data row5 col5\" >1.000000</td>\n",
       "      <td id=\"T_80b4f_row5_col6\" class=\"data row5 col6\" >-0.039347</td>\n",
       "      <td id=\"T_80b4f_row5_col7\" class=\"data row5 col7\" >-0.029268</td>\n",
       "      <td id=\"T_80b4f_row5_col8\" class=\"data row5 col8\" >0.010658</td>\n",
       "    </tr>\n",
       "    <tr>\n",
       "      <th id=\"T_80b4f_level0_row6\" class=\"row_heading level0 row6\" >experience</th>\n",
       "      <td id=\"T_80b4f_row6_col0\" class=\"data row6 col0\" >0.132761</td>\n",
       "      <td id=\"T_80b4f_row6_col1\" class=\"data row6 col1\" >0.047981</td>\n",
       "      <td id=\"T_80b4f_row6_col2\" class=\"data row6 col2\" >-0.064422</td>\n",
       "      <td id=\"T_80b4f_row6_col3\" class=\"data row6 col3\" >-0.041834</td>\n",
       "      <td id=\"T_80b4f_row6_col4\" class=\"data row6 col4\" >0.239927</td>\n",
       "      <td id=\"T_80b4f_row6_col5\" class=\"data row6 col5\" >-0.039347</td>\n",
       "      <td id=\"T_80b4f_row6_col6\" class=\"data row6 col6\" >1.000000</td>\n",
       "      <td id=\"T_80b4f_row6_col7\" class=\"data row6 col7\" >0.826357</td>\n",
       "      <td id=\"T_80b4f_row6_col8\" class=\"data row6 col8\" >0.134136</td>\n",
       "    </tr>\n",
       "    <tr>\n",
       "      <th id=\"T_80b4f_level0_row7\" class=\"row_heading level0 row7\" >age</th>\n",
       "      <td id=\"T_80b4f_row7_col0\" class=\"data row7 col0\" >0.070973</td>\n",
       "      <td id=\"T_80b4f_row7_col1\" class=\"data row7 col1\" >0.062631</td>\n",
       "      <td id=\"T_80b4f_row7_col2\" class=\"data row7 col2\" >-0.066090</td>\n",
       "      <td id=\"T_80b4f_row7_col3\" class=\"data row7 col3\" >-0.066507</td>\n",
       "      <td id=\"T_80b4f_row7_col4\" class=\"data row7 col4\" >0.189626</td>\n",
       "      <td id=\"T_80b4f_row7_col5\" class=\"data row7 col5\" >-0.029268</td>\n",
       "      <td id=\"T_80b4f_row7_col6\" class=\"data row7 col6\" >0.826357</td>\n",
       "      <td id=\"T_80b4f_row7_col7\" class=\"data row7 col7\" >1.000000</td>\n",
       "      <td id=\"T_80b4f_row7_col8\" class=\"data row7 col8\" >0.167201</td>\n",
       "    </tr>\n",
       "    <tr>\n",
       "      <th id=\"T_80b4f_level0_row8\" class=\"row_heading level0 row8\" >education</th>\n",
       "      <td id=\"T_80b4f_row8_col0\" class=\"data row8 col0\" >0.125587</td>\n",
       "      <td id=\"T_80b4f_row8_col1\" class=\"data row8 col1\" >-0.015358</td>\n",
       "      <td id=\"T_80b4f_row8_col2\" class=\"data row8 col2\" >-0.056247</td>\n",
       "      <td id=\"T_80b4f_row8_col3\" class=\"data row8 col3\" >0.029496</td>\n",
       "      <td id=\"T_80b4f_row8_col4\" class=\"data row8 col4\" >0.151044</td>\n",
       "      <td id=\"T_80b4f_row8_col5\" class=\"data row8 col5\" >0.010658</td>\n",
       "      <td id=\"T_80b4f_row8_col6\" class=\"data row8 col6\" >0.134136</td>\n",
       "      <td id=\"T_80b4f_row8_col7\" class=\"data row8 col7\" >0.167201</td>\n",
       "      <td id=\"T_80b4f_row8_col8\" class=\"data row8 col8\" >1.000000</td>\n",
       "    </tr>\n",
       "  </tbody>\n",
       "</table>\n"
      ],
      "text/plain": [
       "<pandas.io.formats.style.Styler at 0x255baefd940>"
      ]
     },
     "execution_count": 5,
     "metadata": {},
     "output_type": "execute_result"
    }
   ],
   "source": [
    "corr = dataset.corr()\n",
    "corr.style.background_gradient(cmap='coolwarm')"
   ]
  },
  {
   "cell_type": "code",
   "execution_count": 65,
   "id": "c691fdf9-f871-437f-aa5a-f9ba6456b9c5",
   "metadata": {},
   "outputs": [
    {
     "data": {
      "text/html": [
       "<div>\n",
       "<style scoped>\n",
       "    .dataframe tbody tr th:only-of-type {\n",
       "        vertical-align: middle;\n",
       "    }\n",
       "\n",
       "    .dataframe tbody tr th {\n",
       "        vertical-align: top;\n",
       "    }\n",
       "\n",
       "    .dataframe thead th {\n",
       "        text-align: right;\n",
       "    }\n",
       "</style>\n",
       "<table border=\"1\" class=\"dataframe\">\n",
       "  <thead>\n",
       "    <tr style=\"text-align: right;\">\n",
       "      <th></th>\n",
       "      <th>qd</th>\n",
       "      <th>gos</th>\n",
       "      <th>training2</th>\n",
       "      <th>creadit3</th>\n",
       "      <th>capital</th>\n",
       "      <th>gender</th>\n",
       "      <th>experience</th>\n",
       "      <th>age</th>\n",
       "      <th>education</th>\n",
       "    </tr>\n",
       "  </thead>\n",
       "  <tbody>\n",
       "    <tr>\n",
       "      <th>3</th>\n",
       "      <td>1</td>\n",
       "      <td>0</td>\n",
       "      <td>1</td>\n",
       "      <td>0</td>\n",
       "      <td>9.50</td>\n",
       "      <td>1</td>\n",
       "      <td>12</td>\n",
       "      <td>56</td>\n",
       "      <td>10</td>\n",
       "    </tr>\n",
       "    <tr>\n",
       "      <th>17</th>\n",
       "      <td>1</td>\n",
       "      <td>1</td>\n",
       "      <td>1</td>\n",
       "      <td>0</td>\n",
       "      <td>4.00</td>\n",
       "      <td>1</td>\n",
       "      <td>6</td>\n",
       "      <td>44</td>\n",
       "      <td>5</td>\n",
       "    </tr>\n",
       "    <tr>\n",
       "      <th>21</th>\n",
       "      <td>1</td>\n",
       "      <td>1</td>\n",
       "      <td>0</td>\n",
       "      <td>0</td>\n",
       "      <td>8.00</td>\n",
       "      <td>0</td>\n",
       "      <td>10</td>\n",
       "      <td>50</td>\n",
       "      <td>13</td>\n",
       "    </tr>\n",
       "    <tr>\n",
       "      <th>24</th>\n",
       "      <td>1</td>\n",
       "      <td>0</td>\n",
       "      <td>1</td>\n",
       "      <td>1</td>\n",
       "      <td>5.00</td>\n",
       "      <td>0</td>\n",
       "      <td>7</td>\n",
       "      <td>43</td>\n",
       "      <td>20</td>\n",
       "    </tr>\n",
       "    <tr>\n",
       "      <th>25</th>\n",
       "      <td>1</td>\n",
       "      <td>0</td>\n",
       "      <td>1</td>\n",
       "      <td>1</td>\n",
       "      <td>2.00</td>\n",
       "      <td>1</td>\n",
       "      <td>5</td>\n",
       "      <td>34</td>\n",
       "      <td>13</td>\n",
       "    </tr>\n",
       "    <tr>\n",
       "      <th>...</th>\n",
       "      <td>...</td>\n",
       "      <td>...</td>\n",
       "      <td>...</td>\n",
       "      <td>...</td>\n",
       "      <td>...</td>\n",
       "      <td>...</td>\n",
       "      <td>...</td>\n",
       "      <td>...</td>\n",
       "      <td>...</td>\n",
       "    </tr>\n",
       "    <tr>\n",
       "      <th>390</th>\n",
       "      <td>1</td>\n",
       "      <td>1</td>\n",
       "      <td>1</td>\n",
       "      <td>1</td>\n",
       "      <td>7.00</td>\n",
       "      <td>0</td>\n",
       "      <td>11</td>\n",
       "      <td>55</td>\n",
       "      <td>20</td>\n",
       "    </tr>\n",
       "    <tr>\n",
       "      <th>391</th>\n",
       "      <td>1</td>\n",
       "      <td>1</td>\n",
       "      <td>1</td>\n",
       "      <td>1</td>\n",
       "      <td>9.00</td>\n",
       "      <td>0</td>\n",
       "      <td>9</td>\n",
       "      <td>52</td>\n",
       "      <td>6</td>\n",
       "    </tr>\n",
       "    <tr>\n",
       "      <th>392</th>\n",
       "      <td>1</td>\n",
       "      <td>1</td>\n",
       "      <td>1</td>\n",
       "      <td>0</td>\n",
       "      <td>2.00</td>\n",
       "      <td>0</td>\n",
       "      <td>2</td>\n",
       "      <td>28</td>\n",
       "      <td>12</td>\n",
       "    </tr>\n",
       "    <tr>\n",
       "      <th>397</th>\n",
       "      <td>1</td>\n",
       "      <td>0</td>\n",
       "      <td>1</td>\n",
       "      <td>1</td>\n",
       "      <td>6.00</td>\n",
       "      <td>1</td>\n",
       "      <td>11</td>\n",
       "      <td>50</td>\n",
       "      <td>12</td>\n",
       "    </tr>\n",
       "    <tr>\n",
       "      <th>403</th>\n",
       "      <td>1</td>\n",
       "      <td>0</td>\n",
       "      <td>1</td>\n",
       "      <td>1</td>\n",
       "      <td>0.85</td>\n",
       "      <td>1</td>\n",
       "      <td>3</td>\n",
       "      <td>27</td>\n",
       "      <td>12</td>\n",
       "    </tr>\n",
       "  </tbody>\n",
       "</table>\n",
       "<p>102 rows × 9 columns</p>\n",
       "</div>"
      ],
      "text/plain": [
       "     qd  gos  training2  creadit3  capital  gender  experience  age  education\n",
       "3     1    0          1         0     9.50       1          12   56         10\n",
       "17    1    1          1         0     4.00       1           6   44          5\n",
       "21    1    1          0         0     8.00       0          10   50         13\n",
       "24    1    0          1         1     5.00       0           7   43         20\n",
       "25    1    0          1         1     2.00       1           5   34         13\n",
       "..   ..  ...        ...       ...      ...     ...         ...  ...        ...\n",
       "390   1    1          1         1     7.00       0          11   55         20\n",
       "391   1    1          1         1     9.00       0           9   52          6\n",
       "392   1    1          1         0     2.00       0           2   28         12\n",
       "397   1    0          1         1     6.00       1          11   50         12\n",
       "403   1    0          1         1     0.85       1           3   27         12\n",
       "\n",
       "[102 rows x 9 columns]"
      ]
     },
     "execution_count": 65,
     "metadata": {},
     "output_type": "execute_result"
    }
   ],
   "source": [
    "qd1 = dataset[dataset.qd==1]\n",
    "qd1"
   ]
  },
  {
   "cell_type": "code",
   "execution_count": 29,
   "id": "5f780f3d-8435-4dfc-a957-432463194319",
   "metadata": {},
   "outputs": [
    {
     "data": {
      "text/html": [
       "<div>\n",
       "<style scoped>\n",
       "    .dataframe tbody tr th:only-of-type {\n",
       "        vertical-align: middle;\n",
       "    }\n",
       "\n",
       "    .dataframe tbody tr th {\n",
       "        vertical-align: top;\n",
       "    }\n",
       "\n",
       "    .dataframe thead th {\n",
       "        text-align: right;\n",
       "    }\n",
       "</style>\n",
       "<table border=\"1\" class=\"dataframe\">\n",
       "  <thead>\n",
       "    <tr style=\"text-align: right;\">\n",
       "      <th></th>\n",
       "      <th>qd</th>\n",
       "      <th>gos</th>\n",
       "      <th>training2</th>\n",
       "      <th>creadit3</th>\n",
       "    </tr>\n",
       "  </thead>\n",
       "  <tbody>\n",
       "    <tr>\n",
       "      <th>0</th>\n",
       "      <td>302</td>\n",
       "      <td>356</td>\n",
       "      <td>153</td>\n",
       "      <td>291</td>\n",
       "    </tr>\n",
       "    <tr>\n",
       "      <th>1</th>\n",
       "      <td>102</td>\n",
       "      <td>48</td>\n",
       "      <td>251</td>\n",
       "      <td>113</td>\n",
       "    </tr>\n",
       "  </tbody>\n",
       "</table>\n",
       "</div>"
      ],
      "text/plain": [
       "    qd  gos  training2  creadit3\n",
       "0  302  356        153       291\n",
       "1  102   48        251       113"
      ]
     },
     "metadata": {},
     "output_type": "display_data"
    }
   ],
   "source": [
    "display(dataset[[\"qd\",\"gos\",\"training2\",\"creadit3\"]].apply(pd.Series.value_counts))"
   ]
  },
  {
   "cell_type": "code",
   "execution_count": 30,
   "id": "52b26273-10af-4bce-982d-33fe0778a43c",
   "metadata": {},
   "outputs": [],
   "source": [
    "# input\n",
    "x = dataset.iloc[:, [1,2,3,4,5,6,7,8]].values\n",
    "\n",
    "# output\n",
    "y = dataset.iloc[:,0].values"
   ]
  },
  {
   "cell_type": "code",
   "execution_count": 67,
   "id": "fa079959-ee76-4749-b6e2-c5dac3828469",
   "metadata": {},
   "outputs": [],
   "source": [
    "from sklearn.model_selection import train_test_split\n",
    "X_train, X_test, y_train, y_test = train_test_split(x, y, test_size = 0.2, random_state = 0)"
   ]
  },
  {
   "cell_type": "code",
   "execution_count": 49,
   "id": "698f187d-12e1-43f3-877b-94c7ee823e46",
   "metadata": {},
   "outputs": [
    {
     "name": "stdout",
     "output_type": "stream",
     "text": [
      "[[-0.3541688  -1.27515343  1.66006444 -1.24660237  1.02191183 -1.16143255\n",
      "  -0.99910742  0.3929856 ]\n",
      " [-0.3541688  -1.27515343 -0.60238625 -1.11996796  1.02191183 -0.86487704\n",
      "  -1.70065459 -0.75204074]\n",
      " [-0.3541688   0.78421936 -0.60238625  0.72678381  1.02191183  0.32134497\n",
      "   0.50420794  1.53801195]\n",
      " [-0.3541688   0.78421936  1.66006444 -0.32850292 -0.978558    0.61790048\n",
      "   0.50420794 -1.24276632]\n",
      " [-0.3541688   0.78421936 -0.60238625  0.19914045 -0.978558   -1.16143255\n",
      "   0.30376589 -1.40634151]\n",
      " [-0.3541688  -1.27515343  1.66006444 -0.85614628 -0.978558   -1.45798805\n",
      "  -0.79866537 -0.26131517]\n",
      " [-0.3541688   0.78421936 -0.60238625 -0.5923246  -0.978558    0.61790048\n",
      "  -0.79866537 -0.91561594]\n",
      " [-0.3541688   0.78421936 -0.60238625 -1.11996796 -0.978558   -0.86487704\n",
      "  -1.19954947 -0.91561594]\n",
      " [-0.3541688   0.78421936  1.66006444 -0.5923246  -0.978558    0.02478947\n",
      "   0.10332384  0.3929856 ]\n",
      " [-0.3541688   0.78421936  1.66006444 -1.1410737   1.02191183  0.32134497\n",
      "   0.00310282  0.3929856 ]]\n"
     ]
    }
   ],
   "source": [
    "from sklearn.preprocessing import StandardScaler\n",
    "sc_x = StandardScaler()\n",
    "X_train = sc_x.fit_transform(X_train) \n",
    "X_test = sc_x.transform(X_test)\n",
    "  \n",
    "print (X_train[0:10, :])"
   ]
  },
  {
   "cell_type": "code",
   "execution_count": 50,
   "id": "fdb2c41b-f314-41f5-915c-ac0d952b13aa",
   "metadata": {},
   "outputs": [
    {
     "data": {
      "text/html": [
       "<style>#sk-container-id-4 {color: black;background-color: white;}#sk-container-id-4 pre{padding: 0;}#sk-container-id-4 div.sk-toggleable {background-color: white;}#sk-container-id-4 label.sk-toggleable__label {cursor: pointer;display: block;width: 100%;margin-bottom: 0;padding: 0.3em;box-sizing: border-box;text-align: center;}#sk-container-id-4 label.sk-toggleable__label-arrow:before {content: \"▸\";float: left;margin-right: 0.25em;color: #696969;}#sk-container-id-4 label.sk-toggleable__label-arrow:hover:before {color: black;}#sk-container-id-4 div.sk-estimator:hover label.sk-toggleable__label-arrow:before {color: black;}#sk-container-id-4 div.sk-toggleable__content {max-height: 0;max-width: 0;overflow: hidden;text-align: left;background-color: #f0f8ff;}#sk-container-id-4 div.sk-toggleable__content pre {margin: 0.2em;color: black;border-radius: 0.25em;background-color: #f0f8ff;}#sk-container-id-4 input.sk-toggleable__control:checked~div.sk-toggleable__content {max-height: 200px;max-width: 100%;overflow: auto;}#sk-container-id-4 input.sk-toggleable__control:checked~label.sk-toggleable__label-arrow:before {content: \"▾\";}#sk-container-id-4 div.sk-estimator input.sk-toggleable__control:checked~label.sk-toggleable__label {background-color: #d4ebff;}#sk-container-id-4 div.sk-label input.sk-toggleable__control:checked~label.sk-toggleable__label {background-color: #d4ebff;}#sk-container-id-4 input.sk-hidden--visually {border: 0;clip: rect(1px 1px 1px 1px);clip: rect(1px, 1px, 1px, 1px);height: 1px;margin: -1px;overflow: hidden;padding: 0;position: absolute;width: 1px;}#sk-container-id-4 div.sk-estimator {font-family: monospace;background-color: #f0f8ff;border: 1px dotted black;border-radius: 0.25em;box-sizing: border-box;margin-bottom: 0.5em;}#sk-container-id-4 div.sk-estimator:hover {background-color: #d4ebff;}#sk-container-id-4 div.sk-parallel-item::after {content: \"\";width: 100%;border-bottom: 1px solid gray;flex-grow: 1;}#sk-container-id-4 div.sk-label:hover label.sk-toggleable__label {background-color: #d4ebff;}#sk-container-id-4 div.sk-serial::before {content: \"\";position: absolute;border-left: 1px solid gray;box-sizing: border-box;top: 0;bottom: 0;left: 50%;z-index: 0;}#sk-container-id-4 div.sk-serial {display: flex;flex-direction: column;align-items: center;background-color: white;padding-right: 0.2em;padding-left: 0.2em;position: relative;}#sk-container-id-4 div.sk-item {position: relative;z-index: 1;}#sk-container-id-4 div.sk-parallel {display: flex;align-items: stretch;justify-content: center;background-color: white;position: relative;}#sk-container-id-4 div.sk-item::before, #sk-container-id-4 div.sk-parallel-item::before {content: \"\";position: absolute;border-left: 1px solid gray;box-sizing: border-box;top: 0;bottom: 0;left: 50%;z-index: -1;}#sk-container-id-4 div.sk-parallel-item {display: flex;flex-direction: column;z-index: 1;position: relative;background-color: white;}#sk-container-id-4 div.sk-parallel-item:first-child::after {align-self: flex-end;width: 50%;}#sk-container-id-4 div.sk-parallel-item:last-child::after {align-self: flex-start;width: 50%;}#sk-container-id-4 div.sk-parallel-item:only-child::after {width: 0;}#sk-container-id-4 div.sk-dashed-wrapped {border: 1px dashed gray;margin: 0 0.4em 0.5em 0.4em;box-sizing: border-box;padding-bottom: 0.4em;background-color: white;}#sk-container-id-4 div.sk-label label {font-family: monospace;font-weight: bold;display: inline-block;line-height: 1.2em;}#sk-container-id-4 div.sk-label-container {text-align: center;}#sk-container-id-4 div.sk-container {/* jupyter's `normalize.less` sets `[hidden] { display: none; }` but bootstrap.min.css set `[hidden] { display: none !important; }` so we also need the `!important` here to be able to override the default hidden behavior on the sphinx rendered scikit-learn.org. See: https://github.com/scikit-learn/scikit-learn/issues/21755 */display: inline-block !important;position: relative;}#sk-container-id-4 div.sk-text-repr-fallback {display: none;}</style><div id=\"sk-container-id-4\" class=\"sk-top-container\"><div class=\"sk-text-repr-fallback\"><pre>LogisticRegression(random_state=0)</pre><b>In a Jupyter environment, please rerun this cell to show the HTML representation or trust the notebook. <br />On GitHub, the HTML representation is unable to render, please try loading this page with nbviewer.org.</b></div><div class=\"sk-container\" hidden><div class=\"sk-item\"><div class=\"sk-estimator sk-toggleable\"><input class=\"sk-toggleable__control sk-hidden--visually\" id=\"sk-estimator-id-4\" type=\"checkbox\" checked><label for=\"sk-estimator-id-4\" class=\"sk-toggleable__label sk-toggleable__label-arrow\">LogisticRegression</label><div class=\"sk-toggleable__content\"><pre>LogisticRegression(random_state=0)</pre></div></div></div></div></div>"
      ],
      "text/plain": [
       "LogisticRegression(random_state=0)"
      ]
     },
     "execution_count": 71,
     "metadata": {},
     "output_type": "execute_result"
    }
   ],
   "source": [
    "from sklearn.linear_model import LogisticRegression\n",
    "classifier = LogisticRegression(random_state = 0)\n",
    "classifier.fit(X_train, y_train)"
   ]
  },
  {
   "cell_type": "code",
   "execution_count": 51,
   "id": "9cc0b0e1-641e-48ff-ad36-c548bdb59dd9",
   "metadata": {},
   "outputs": [
    {
     "data": {
      "text/plain": [
       "0.7708978328173375"
      ]
     },
     "execution_count": 72,
     "metadata": {},
     "output_type": "execute_result"
    }
   ],
   "source": [
    "classifier.score(X_train, y_train)"
   ]
  },
  {
   "cell_type": "code",
   "execution_count": 52,
   "id": "d9df4ddb-89a0-4a1a-8477-8b0b694fc542",
   "metadata": {},
   "outputs": [
    {
     "data": {
      "text/plain": [
       "0.7901234567901234"
      ]
     },
     "execution_count": 73,
     "metadata": {},
     "output_type": "execute_result"
    }
   ],
   "source": [
    "classifier.score(X_test, y_test)"
   ]
  },
  {
   "cell_type": "code",
   "execution_count": 53,
   "id": "18145c07-2e2c-4936-b6bc-5b75f118664e",
   "metadata": {},
   "outputs": [
    {
     "data": {
      "text/plain": [
       "array([[ 0.39308115,  0.55438327,  0.30403877,  0.23184177,  0.05999185,\n",
       "         0.68782429, -0.40064234,  0.27288358]])"
      ]
     },
     "execution_count": 74,
     "metadata": {},
     "output_type": "execute_result"
    }
   ],
   "source": [
    "classifier.coef_"
   ]
  },
  {
   "cell_type": "code",
   "execution_count": 54,
   "id": "5db85233-89c7-4d06-bacc-10cec1229905",
   "metadata": {},
   "outputs": [
    {
     "data": {
      "text/plain": [
       "array([-1.19489593])"
      ]
     },
     "execution_count": 75,
     "metadata": {},
     "output_type": "execute_result"
    }
   ],
   "source": [
    "classifier.intercept_"
   ]
  },
  {
   "cell_type": "code",
   "execution_count": 55,
   "id": "7fbf68f2-1cb2-4655-b851-0f38991e100f",
   "metadata": {},
   "outputs": [],
   "source": [
    "y_pred = classifier.predict(X_test)"
   ]
  },
  {
   "cell_type": "code",
   "execution_count": 56,
   "id": "100077d1-06d1-4a55-8261-16612059c7c2",
   "metadata": {},
   "outputs": [
    {
     "name": "stdout",
     "output_type": "stream",
     "text": [
      "Confusion Matrix : \n",
      " [[60  5]\n",
      " [12  4]]\n"
     ]
    }
   ],
   "source": [
    "from sklearn.metrics import confusion_matrix\n",
    "qd = confusion_matrix(y_test, y_pred)\n",
    "  \n",
    "print (\"Confusion Matrix : \\n\", qd)"
   ]
  },
  {
   "cell_type": "code",
   "execution_count": 57,
   "id": "e9549e95-0cbe-4e02-bdb9-bc2dc51875ca",
   "metadata": {},
   "outputs": [
    {
     "name": "stdout",
     "output_type": "stream",
     "text": [
      "Accuracy :  0.7901234567901234\n"
     ]
    }
   ],
   "source": [
    "from sklearn.metrics import accuracy_score\n",
    "print (\"Accuracy : \", accuracy_score(y_test, y_pred))"
   ]
  },
  {
   "cell_type": "code",
   "execution_count": 58,
   "id": "7d422f25-1d82-48dc-af19-df77fd43431f",
   "metadata": {},
   "outputs": [],
   "source": [
    "qdtest = qd1.iloc[:, [1,2,3,4,5,6,7,8]].values\n",
    "qdtest = sc_x.fit_transform(qdtest) "
   ]
  },
  {
   "cell_type": "code",
   "execution_count": 59,
   "id": "4cea76f6-6077-48ff-b37e-6925bff9c236",
   "metadata": {},
   "outputs": [
    {
     "data": {
      "text/plain": [
       "array([0, 0, 0, 0, 0, 0, 0, 1, 0, 0, 0, 1, 0, 0, 0, 0, 0, 1, 0, 0, 0, 0,\n",
       "       0, 0, 0, 0, 0, 0, 1, 0, 0, 0, 0, 0, 0, 0, 0, 0, 0, 0, 0, 0, 0, 0,\n",
       "       0, 0, 0, 0, 0, 0, 0, 0, 0, 0, 0, 0, 0, 0, 1, 1, 0, 0, 0, 0, 0, 0,\n",
       "       0, 0, 0, 1, 1, 1, 0, 0, 0, 0, 0, 0, 0, 0, 0], dtype=int64)"
      ]
     },
     "execution_count": 80,
     "metadata": {},
     "output_type": "execute_result"
    }
   ],
   "source": [
    "#Tranform model\n",
    "classifier.predict(X_test)"
   ]
  },
  {
   "cell_type": "code",
   "execution_count": 60,
   "id": "9b4b784b-cac0-4283-8ca7-263ea181aa89",
   "metadata": {},
   "outputs": [
    {
     "data": {
      "text/plain": [
       "array([0, 0, 0, 0, 0, 0, 0, 0, 0, 0, 0, 0, 0, 0, 0, 0, 0, 0, 0, 0, 0, 0,\n",
       "       0, 0, 0, 0, 0, 0, 0, 0, 0, 0, 0, 0, 0, 0, 0, 0, 0, 0, 0, 0, 0, 0,\n",
       "       0, 0, 0, 0, 0, 0, 0, 0, 0, 0, 0, 0, 0, 0, 0, 0, 0, 0, 0, 0, 0, 0,\n",
       "       0, 0, 0, 0, 0, 0, 0, 0, 0, 0, 0, 0, 0, 0, 0, 0, 0, 0, 0, 0, 0, 0,\n",
       "       0, 0, 0, 0, 0, 0, 0, 0, 0, 0, 0, 0, 0, 0], dtype=int64)"
      ]
     },
     "execution_count": 81,
     "metadata": {},
     "output_type": "execute_result"
    }
   ],
   "source": [
    "#None Tranform\n",
    "classifier.predict(qd1.iloc[:, [1,2,3,4,5,6,7,8]].values)"
   ]
  },
  {
   "cell_type": "code",
   "execution_count": 61,
   "id": "eeb50246-82cb-4753-ab58-637838437a8e",
   "metadata": {},
   "outputs": [
    {
     "data": {
      "text/plain": [
       "Index(['qd', 'gos', 'training2', 'creadit3', 'capital', 'gender', 'experience',\n",
       "       'age', 'education'],\n",
       "      dtype='object')"
      ]
     },
     "execution_count": 82,
     "metadata": {},
     "output_type": "execute_result"
    }
   ],
   "source": [
    "dataset.columns"
   ]
  },
  {
   "cell_type": "code",
   "execution_count": 84,
   "id": "ef4f8922-ac75-412a-a646-abc054e755c8",
   "metadata": {},
   "outputs": [
    {
     "ename": "ValueError",
     "evalue": "Expected 2D array, got scalar array instead:\narray=0.0.\nReshape your data either using array.reshape(-1, 1) if your data has a single feature or array.reshape(1, -1) if it contains a single sample.",
     "output_type": "error",
     "traceback": [
      "\u001b[1;31m---------------------------------------------------------------------------\u001b[0m",
      "\u001b[1;31mValueError\u001b[0m                                Traceback (most recent call last)",
      "Input \u001b[1;32mIn [84]\u001b[0m, in \u001b[0;36m<cell line: 20>\u001b[1;34m()\u001b[0m\n\u001b[0;32m     17\u001b[0m     \u001b[38;5;28;01melse\u001b[39;00m:\n\u001b[0;32m     18\u001b[0m         \u001b[38;5;28;01mreturn\u001b[39;00m \u001b[38;5;241m0\u001b[39m\n\u001b[1;32m---> 20\u001b[0m \u001b[38;5;28mprint\u001b[39m(\u001b[43mPredictPro\u001b[49m\u001b[43m(\u001b[49m\u001b[38;5;241;43m0\u001b[39;49m\u001b[43m,\u001b[49m\u001b[38;5;241;43m1\u001b[39;49m\u001b[43m,\u001b[49m\u001b[38;5;241;43m1\u001b[39;49m\u001b[43m,\u001b[49m\u001b[38;5;241;43m5\u001b[39;49m\u001b[43m,\u001b[49m\u001b[43m \u001b[49m\u001b[43mclassifier\u001b[49m\u001b[38;5;241;43m.\u001b[39;49m\u001b[43mintercept_\u001b[49m\u001b[43m)\u001b[49m)\n",
      "Input \u001b[1;32mIn [84]\u001b[0m, in \u001b[0;36mPredictPro\u001b[1;34m(gos, training, credit, experience, intercept)\u001b[0m\n\u001b[0;32m      8\u001b[0m creditPara \u001b[38;5;241m=\u001b[39m classifier\u001b[38;5;241m.\u001b[39mcoef_[\u001b[38;5;241m0\u001b[39m][\u001b[38;5;241m2\u001b[39m]\n\u001b[0;32m      9\u001b[0m experiencePara \u001b[38;5;241m=\u001b[39m classifier\u001b[38;5;241m.\u001b[39mcoef_[\u001b[38;5;241m0\u001b[39m][\u001b[38;5;241m5\u001b[39m]\n\u001b[1;32m---> 10\u001b[0m gos \u001b[38;5;241m=\u001b[39m \u001b[43msc_x\u001b[49m\u001b[38;5;241;43m.\u001b[39;49m\u001b[43mfit_transform\u001b[49m\u001b[43m(\u001b[49m\u001b[43mgos\u001b[49m\u001b[43m)\u001b[49m\n\u001b[0;32m     11\u001b[0m logarit \u001b[38;5;241m=\u001b[39m intercept \u001b[38;5;241m+\u001b[39m gosPara\u001b[38;5;241m*\u001b[39mgos \u001b[38;5;241m-\u001b[39m trainingPara\u001b[38;5;241m*\u001b[39mtraining \u001b[38;5;241m+\u001b[39m \\\n\u001b[0;32m     12\u001b[0m creditPara\u001b[38;5;241m*\u001b[39mcredit \u001b[38;5;241m+\u001b[39m experiencePara\u001b[38;5;241m*\u001b[39mexperience\n\u001b[0;32m     13\u001b[0m Decision \u001b[38;5;241m=\u001b[39m \u001b[38;5;241m1\u001b[39m\u001b[38;5;241m/\u001b[39m(\u001b[38;5;241m1\u001b[39m\u001b[38;5;241m+\u001b[39mmath\u001b[38;5;241m.\u001b[39mexp(\u001b[38;5;241m-\u001b[39mlogarit))\n",
      "File \u001b[1;32mD:\\Anaconda3\\envs\\NLP\\lib\\site-packages\\sklearn\\base.py:867\u001b[0m, in \u001b[0;36mTransformerMixin.fit_transform\u001b[1;34m(self, X, y, **fit_params)\u001b[0m\n\u001b[0;32m    863\u001b[0m \u001b[38;5;66;03m# non-optimized default implementation; override when a better\u001b[39;00m\n\u001b[0;32m    864\u001b[0m \u001b[38;5;66;03m# method is possible for a given clustering algorithm\u001b[39;00m\n\u001b[0;32m    865\u001b[0m \u001b[38;5;28;01mif\u001b[39;00m y \u001b[38;5;129;01mis\u001b[39;00m \u001b[38;5;28;01mNone\u001b[39;00m:\n\u001b[0;32m    866\u001b[0m     \u001b[38;5;66;03m# fit method of arity 1 (unsupervised transformation)\u001b[39;00m\n\u001b[1;32m--> 867\u001b[0m     \u001b[38;5;28;01mreturn\u001b[39;00m \u001b[38;5;28mself\u001b[39m\u001b[38;5;241m.\u001b[39mfit(X, \u001b[38;5;241m*\u001b[39m\u001b[38;5;241m*\u001b[39mfit_params)\u001b[38;5;241m.\u001b[39mtransform(X)\n\u001b[0;32m    868\u001b[0m \u001b[38;5;28;01melse\u001b[39;00m:\n\u001b[0;32m    869\u001b[0m     \u001b[38;5;66;03m# fit method of arity 2 (supervised transformation)\u001b[39;00m\n\u001b[0;32m    870\u001b[0m     \u001b[38;5;28;01mreturn\u001b[39;00m \u001b[38;5;28mself\u001b[39m\u001b[38;5;241m.\u001b[39mfit(X, y, \u001b[38;5;241m*\u001b[39m\u001b[38;5;241m*\u001b[39mfit_params)\u001b[38;5;241m.\u001b[39mtransform(X)\n",
      "File \u001b[1;32mD:\\Anaconda3\\envs\\NLP\\lib\\site-packages\\sklearn\\preprocessing\\_data.py:809\u001b[0m, in \u001b[0;36mStandardScaler.fit\u001b[1;34m(self, X, y, sample_weight)\u001b[0m\n\u001b[0;32m    807\u001b[0m \u001b[38;5;66;03m# Reset internal state before fitting\u001b[39;00m\n\u001b[0;32m    808\u001b[0m \u001b[38;5;28mself\u001b[39m\u001b[38;5;241m.\u001b[39m_reset()\n\u001b[1;32m--> 809\u001b[0m \u001b[38;5;28;01mreturn\u001b[39;00m \u001b[38;5;28;43mself\u001b[39;49m\u001b[38;5;241;43m.\u001b[39;49m\u001b[43mpartial_fit\u001b[49m\u001b[43m(\u001b[49m\u001b[43mX\u001b[49m\u001b[43m,\u001b[49m\u001b[43m \u001b[49m\u001b[43my\u001b[49m\u001b[43m,\u001b[49m\u001b[43m \u001b[49m\u001b[43msample_weight\u001b[49m\u001b[43m)\u001b[49m\n",
      "File \u001b[1;32mD:\\Anaconda3\\envs\\NLP\\lib\\site-packages\\sklearn\\preprocessing\\_data.py:844\u001b[0m, in \u001b[0;36mStandardScaler.partial_fit\u001b[1;34m(self, X, y, sample_weight)\u001b[0m\n\u001b[0;32m    812\u001b[0m \u001b[38;5;124;03m\"\"\"Online computation of mean and std on X for later scaling.\u001b[39;00m\n\u001b[0;32m    813\u001b[0m \n\u001b[0;32m    814\u001b[0m \u001b[38;5;124;03mAll of X is processed as a single batch. This is intended for cases\u001b[39;00m\n\u001b[1;32m   (...)\u001b[0m\n\u001b[0;32m    841\u001b[0m \u001b[38;5;124;03m    Fitted scaler.\u001b[39;00m\n\u001b[0;32m    842\u001b[0m \u001b[38;5;124;03m\"\"\"\u001b[39;00m\n\u001b[0;32m    843\u001b[0m first_call \u001b[38;5;241m=\u001b[39m \u001b[38;5;129;01mnot\u001b[39;00m \u001b[38;5;28mhasattr\u001b[39m(\u001b[38;5;28mself\u001b[39m, \u001b[38;5;124m\"\u001b[39m\u001b[38;5;124mn_samples_seen_\u001b[39m\u001b[38;5;124m\"\u001b[39m)\n\u001b[1;32m--> 844\u001b[0m X \u001b[38;5;241m=\u001b[39m \u001b[38;5;28;43mself\u001b[39;49m\u001b[38;5;241;43m.\u001b[39;49m\u001b[43m_validate_data\u001b[49m\u001b[43m(\u001b[49m\n\u001b[0;32m    845\u001b[0m \u001b[43m    \u001b[49m\u001b[43mX\u001b[49m\u001b[43m,\u001b[49m\n\u001b[0;32m    846\u001b[0m \u001b[43m    \u001b[49m\u001b[43maccept_sparse\u001b[49m\u001b[38;5;241;43m=\u001b[39;49m\u001b[43m(\u001b[49m\u001b[38;5;124;43m\"\u001b[39;49m\u001b[38;5;124;43mcsr\u001b[39;49m\u001b[38;5;124;43m\"\u001b[39;49m\u001b[43m,\u001b[49m\u001b[43m \u001b[49m\u001b[38;5;124;43m\"\u001b[39;49m\u001b[38;5;124;43mcsc\u001b[39;49m\u001b[38;5;124;43m\"\u001b[39;49m\u001b[43m)\u001b[49m\u001b[43m,\u001b[49m\n\u001b[0;32m    847\u001b[0m \u001b[43m    \u001b[49m\u001b[43mdtype\u001b[49m\u001b[38;5;241;43m=\u001b[39;49m\u001b[43mFLOAT_DTYPES\u001b[49m\u001b[43m,\u001b[49m\n\u001b[0;32m    848\u001b[0m \u001b[43m    \u001b[49m\u001b[43mforce_all_finite\u001b[49m\u001b[38;5;241;43m=\u001b[39;49m\u001b[38;5;124;43m\"\u001b[39;49m\u001b[38;5;124;43mallow-nan\u001b[39;49m\u001b[38;5;124;43m\"\u001b[39;49m\u001b[43m,\u001b[49m\n\u001b[0;32m    849\u001b[0m \u001b[43m    \u001b[49m\u001b[43mreset\u001b[49m\u001b[38;5;241;43m=\u001b[39;49m\u001b[43mfirst_call\u001b[49m\u001b[43m,\u001b[49m\n\u001b[0;32m    850\u001b[0m \u001b[43m\u001b[49m\u001b[43m)\u001b[49m\n\u001b[0;32m    851\u001b[0m n_features \u001b[38;5;241m=\u001b[39m X\u001b[38;5;241m.\u001b[39mshape[\u001b[38;5;241m1\u001b[39m]\n\u001b[0;32m    853\u001b[0m \u001b[38;5;28;01mif\u001b[39;00m sample_weight \u001b[38;5;129;01mis\u001b[39;00m \u001b[38;5;129;01mnot\u001b[39;00m \u001b[38;5;28;01mNone\u001b[39;00m:\n",
      "File \u001b[1;32mD:\\Anaconda3\\envs\\NLP\\lib\\site-packages\\sklearn\\base.py:577\u001b[0m, in \u001b[0;36mBaseEstimator._validate_data\u001b[1;34m(self, X, y, reset, validate_separately, **check_params)\u001b[0m\n\u001b[0;32m    575\u001b[0m     \u001b[38;5;28;01mraise\u001b[39;00m \u001b[38;5;167;01mValueError\u001b[39;00m(\u001b[38;5;124m\"\u001b[39m\u001b[38;5;124mValidation should be done on X, y or both.\u001b[39m\u001b[38;5;124m\"\u001b[39m)\n\u001b[0;32m    576\u001b[0m \u001b[38;5;28;01melif\u001b[39;00m \u001b[38;5;129;01mnot\u001b[39;00m no_val_X \u001b[38;5;129;01mand\u001b[39;00m no_val_y:\n\u001b[1;32m--> 577\u001b[0m     X \u001b[38;5;241m=\u001b[39m check_array(X, input_name\u001b[38;5;241m=\u001b[39m\u001b[38;5;124m\"\u001b[39m\u001b[38;5;124mX\u001b[39m\u001b[38;5;124m\"\u001b[39m, \u001b[38;5;241m*\u001b[39m\u001b[38;5;241m*\u001b[39mcheck_params)\n\u001b[0;32m    578\u001b[0m     out \u001b[38;5;241m=\u001b[39m X\n\u001b[0;32m    579\u001b[0m \u001b[38;5;28;01melif\u001b[39;00m no_val_X \u001b[38;5;129;01mand\u001b[39;00m \u001b[38;5;129;01mnot\u001b[39;00m no_val_y:\n",
      "File \u001b[1;32mD:\\Anaconda3\\envs\\NLP\\lib\\site-packages\\sklearn\\utils\\validation.py:871\u001b[0m, in \u001b[0;36mcheck_array\u001b[1;34m(array, accept_sparse, accept_large_sparse, dtype, order, copy, force_all_finite, ensure_2d, allow_nd, ensure_min_samples, ensure_min_features, estimator, input_name)\u001b[0m\n\u001b[0;32m    868\u001b[0m \u001b[38;5;28;01mif\u001b[39;00m ensure_2d:\n\u001b[0;32m    869\u001b[0m     \u001b[38;5;66;03m# If input is scalar raise error\u001b[39;00m\n\u001b[0;32m    870\u001b[0m     \u001b[38;5;28;01mif\u001b[39;00m array\u001b[38;5;241m.\u001b[39mndim \u001b[38;5;241m==\u001b[39m \u001b[38;5;241m0\u001b[39m:\n\u001b[1;32m--> 871\u001b[0m         \u001b[38;5;28;01mraise\u001b[39;00m \u001b[38;5;167;01mValueError\u001b[39;00m(\n\u001b[0;32m    872\u001b[0m             \u001b[38;5;124m\"\u001b[39m\u001b[38;5;124mExpected 2D array, got scalar array instead:\u001b[39m\u001b[38;5;130;01m\\n\u001b[39;00m\u001b[38;5;124marray=\u001b[39m\u001b[38;5;132;01m{}\u001b[39;00m\u001b[38;5;124m.\u001b[39m\u001b[38;5;130;01m\\n\u001b[39;00m\u001b[38;5;124m\"\u001b[39m\n\u001b[0;32m    873\u001b[0m             \u001b[38;5;124m\"\u001b[39m\u001b[38;5;124mReshape your data either using array.reshape(-1, 1) if \u001b[39m\u001b[38;5;124m\"\u001b[39m\n\u001b[0;32m    874\u001b[0m             \u001b[38;5;124m\"\u001b[39m\u001b[38;5;124myour data has a single feature or array.reshape(1, -1) \u001b[39m\u001b[38;5;124m\"\u001b[39m\n\u001b[0;32m    875\u001b[0m             \u001b[38;5;124m\"\u001b[39m\u001b[38;5;124mif it contains a single sample.\u001b[39m\u001b[38;5;124m\"\u001b[39m\u001b[38;5;241m.\u001b[39mformat(array)\n\u001b[0;32m    876\u001b[0m         )\n\u001b[0;32m    877\u001b[0m     \u001b[38;5;66;03m# If input is 1D raise error\u001b[39;00m\n\u001b[0;32m    878\u001b[0m     \u001b[38;5;28;01mif\u001b[39;00m array\u001b[38;5;241m.\u001b[39mndim \u001b[38;5;241m==\u001b[39m \u001b[38;5;241m1\u001b[39m:\n",
      "\u001b[1;31mValueError\u001b[0m: Expected 2D array, got scalar array instead:\narray=0.0.\nReshape your data either using array.reshape(-1, 1) if your data has a single feature or array.reshape(1, -1) if it contains a single sample."
     ]
    }
   ],
   "source": [
    "import math\n",
    "def PredictPro(gos, training, credit, experience, intercept):\n",
    "    \n",
    "    \n",
    "    \n",
    "    gosPara = classifier.coef_[0][0]\n",
    "    trainingPara = classifier.coef_[0][1]\n",
    "    creditPara = classifier.coef_[0][2]\n",
    "    experiencePara = classifier.coef_[0][5]\n",
    "    logarit = intercept + gosPara*gos - trainingPara*training + \\\n",
    "    creditPara*credit + experiencePara*experience\n",
    "    Decision = 1/(1+math.exp(-logarit))\n",
    "    \n",
    "    if(Decision >= 0.5):\n",
    "        return 1\n",
    "    else:\n",
    "        return 0\n",
    "    \n",
    "print(PredictPro(0,1,1,5, classifier.intercept_))"
   ]
  },
  {
   "cell_type": "code",
   "execution_count": null,
   "id": "27de3260-10ec-4fa9-bd30-cf3b0e9b71f5",
   "metadata": {},
   "outputs": [],
   "source": []
  }
 ],
 "metadata": {
  "kernelspec": {
   "display_name": "Python 3 (ipykernel)",
   "language": "python",
   "name": "python3"
  },
  "language_info": {
   "codemirror_mode": {
    "name": "ipython",
    "version": 3
   },
   "file_extension": ".py",
   "mimetype": "text/x-python",
   "name": "python",
   "nbconvert_exporter": "python",
   "pygments_lexer": "ipython3",
   "version": "3.9.13"
  }
 },
 "nbformat": 4,
 "nbformat_minor": 5
}
